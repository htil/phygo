{
 "cells": [
  {
   "cell_type": "code",
   "execution_count": 18,
   "id": "7bb4326d",
   "metadata": {},
   "outputs": [],
   "source": [
    "\n",
    "import os\n",
    "\n",
    "epoch_length_secs = 2\n",
    "sfreq = 200 \n",
    "labels = [\"Relax\", \"Thumb\", \"Index\"]\n",
    "num_of_events = 100 * len(labels)\n",
    "\n",
    "def append_line_to_file(file_path, line):\n",
    "    with open(file_path, 'a') as f:\n",
    "        f.write(line + '\\n')\n",
    "\n",
    "def generate_events(file_path):\n",
    "    for i in range(num_of_events):\n",
    "        latency = i * epoch_length_secs * sfreq\n",
    "        label = i % len(labels)\n",
    "        if (i > 0):\n",
    "            append_line_to_file(file_path, f\"{latency}, 0, {label}\")\n",
    "        elif (i == 0):\n",
    "            append_line_to_file(file_path, f\"{sfreq}, 0, {label}\")\n",
    "\n",
    "def check_file_exists(file_path):\n",
    "    if os.path.exists(file_path):\n",
    "        os.remove(file_path) \n",
    "\n",
    "def write_labels_to_file(file_path):\n",
    "    # labels_path = file_path.replace('.txt', '_event_labels.txt')\n",
    "    check_file_exists(file_path)\n",
    "    append_line_to_file(file_path, ','.join(labels))\n",
    "\n",
    "\n",
    "event_file_path = \"events/study4.txt\"\n",
    "event_labels_file_path = \"events/study4_event_labels.txt\"\n",
    "check_file_exists(event_file_path)\n",
    "generate_events(event_file_path)\n",
    "write_labels_to_file(event_labels_file_path)\n",
    "\n",
    "\n",
    "\n",
    "\n",
    "\n",
    "\n",
    "\n"
   ]
  }
 ],
 "metadata": {
  "kernelspec": {
   "display_name": "venv",
   "language": "python",
   "name": "python3"
  },
  "language_info": {
   "codemirror_mode": {
    "name": "ipython",
    "version": 3
   },
   "file_extension": ".py",
   "mimetype": "text/x-python",
   "name": "python",
   "nbconvert_exporter": "python",
   "pygments_lexer": "ipython3",
   "version": "3.12.4"
  }
 },
 "nbformat": 4,
 "nbformat_minor": 5
}
